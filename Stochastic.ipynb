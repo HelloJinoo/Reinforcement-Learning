{
 "cells": [
  {
   "cell_type": "code",
   "execution_count": 2,
   "metadata": {},
   "outputs": [],
   "source": [
    "import numpy as np\n",
    "import gym\n",
    "import matplotlib.pyplot as plt\n",
    "from gym.envs.registration import register\n",
    "import random as pr"
   ]
  },
  {
   "cell_type": "code",
   "execution_count": 3,
   "metadata": {},
   "outputs": [],
   "source": [
    "env = gym.make('FrozenLake-v0')"
   ]
  },
  {
   "cell_type": "code",
   "execution_count": 4,
   "metadata": {},
   "outputs": [],
   "source": [
    "Q = np.zeros([env.observation_space.n, env.action_space.n])\n",
    "\n",
    "learning_rate = 0.85\n",
    "dis = .99\n",
    "num_episodes = 2000"
   ]
  },
  {
   "cell_type": "code",
   "execution_count": 8,
   "metadata": {},
   "outputs": [],
   "source": [
    "\n",
    "rList = []\n",
    "\n",
    "for i in range(num_episodes) :\n",
    "    state = env.reset()\n",
    "    rAll = 0\n",
    "    done = False\n",
    "    e = 1./ ((i// 100) +1 )  #decaying E- greedy\n",
    "    while not done :\n",
    "        action = np.argmax(Q[state,:] + np.random.randn(1, env.action_space.n) / (i+1))  \n",
    "        new_state , reward , done , _ = env.step(action)\n",
    "        \n",
    "        Q[state, action] = (1-learning_rate) * Q[state,action] + learning_rate * (reward + dis * np.max(Q[new_state, :]))  # discounted reward\n",
    "        \n",
    "        rAll += reward\n",
    "        state = new_state\n",
    "    rList.append(rAll)    "
   ]
  },
  {
   "cell_type": "code",
   "execution_count": 10,
   "metadata": {},
   "outputs": [
    {
     "name": "stdout",
     "output_type": "stream",
     "text": [
      "Succes rate : 0.531\n",
      "Final Q-Table Values\n",
      "[[5.32647594e-02 7.14325613e-02 5.61093504e-01 7.60460586e-02]\n",
      " [4.45457563e-02 1.67620997e-03 1.53472425e-03 3.72498143e-01]\n",
      " [4.98686630e-02 6.12690239e-02 2.19156518e-02 2.27909584e-01]\n",
      " [3.69405356e-02 7.11252159e-03 5.01393472e-02 1.71601102e-01]\n",
      " [6.89783286e-01 3.55360480e-04 2.02816730e-02 1.97273738e-03]\n",
      " [0.00000000e+00 0.00000000e+00 0.00000000e+00 0.00000000e+00]\n",
      " [3.28934562e-02 1.00778937e-09 6.24357619e-04 1.63729629e-06]\n",
      " [0.00000000e+00 0.00000000e+00 0.00000000e+00 0.00000000e+00]\n",
      " [1.73684886e-02 6.03985442e-03 4.48663174e-03 4.88818701e-01]\n",
      " [5.82584315e-03 8.50908983e-01 2.12874447e-03 3.68046040e-03]\n",
      " [8.07866259e-01 1.86903042e-04 4.51534133e-04 1.95226361e-03]\n",
      " [0.00000000e+00 0.00000000e+00 0.00000000e+00 0.00000000e+00]\n",
      " [0.00000000e+00 0.00000000e+00 0.00000000e+00 0.00000000e+00]\n",
      " [2.81118801e-02 6.38721332e-02 9.67686997e-01 2.02076519e-02]\n",
      " [8.65329729e-02 9.61314380e-01 1.50876486e-01 2.13687865e-01]\n",
      " [0.00000000e+00 0.00000000e+00 0.00000000e+00 0.00000000e+00]]\n"
     ]
    },
    {
     "data": {
      "image/png": "[encoded data removed]",
      "text/plain": [
       "<Figure size 432x288 with 1 Axes>"
      ]
     },
     "metadata": {
      "needs_background": "light"
     },
     "output_type": "display_data"
    }
   ],
   "source": [
    "print(\"Succes rate : \" + str(sum(rList)/num_episodes))\n",
    "print(\"Final Q-Table Values\")\n",
    "print(Q)\n",
    "plt.bar(range(len(rList)), rList , color = 'blue')\n",
    "plt.show()"
   ]
  },
  {
   "cell_type": "code",
   "execution_count": null,
   "metadata": {},
   "outputs": [],
   "source": []
  },
  {
   "cell_type": "code",
   "execution_count": null,
   "metadata": {},
   "outputs": [],
   "source": []
  }
 ],
 "metadata": {
  "kernelspec": {
   "display_name": "Python 3",
   "language": "python",
   "name": "python3"
  },
  "language_info": {
   "codemirror_mode": {
    "name": "ipython",
    "version": 3
   },
   "file_extension": ".py",
   "mimetype": "text/x-python",
   "name": "python",
   "nbconvert_exporter": "python",
   "pygments_lexer": "ipython3",
   "version": "3.7.3"
  }
 },
 "nbformat": 4,
 "nbformat_minor": 2
}
